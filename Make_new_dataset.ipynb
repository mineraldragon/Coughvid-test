{
 "cells": [
  {
   "cell_type": "code",
   "execution_count": null,
   "id": "dc45e6e1",
   "metadata": {},
   "outputs": [],
   "source": [
    "from pathlib import Path\n",
    "from glob import iglob\n",
    "import glob\n",
    "import cv2\n",
    "import os\n",
    "import numpy as np\n",
    "import pandas as pd\n",
    "import random\n",
    "import shutil"
   ]
  },
  {
   "cell_type": "code",
   "execution_count": null,
   "id": "67a2dffb",
   "metadata": {},
   "outputs": [],
   "source": [
    "rootdir = '/Users/rogierlandman/from_Samsung/Machine_learning_datasets/Coughvid-dataset/spec/'\n",
    "savedir = '/Users/rogierlandman/from_Samsung/Machine_learning_datasets/Coughvid-dataset/images_copy1/COVID-19/'\n",
    "\n",
    "#classdir1 = '/Users/rogierlandman/from_Samsung/Machine_learning_datasets/Coughvid-dataset/images/Class_1/'\n",
    "#classdir2 = '/Users/rogierlandman/from_Samsung/Machine_learning_datasets/Coughvid-dataset/images/Class_2/'\n",
    "\n",
    "metadata = pd.read_csv('/Users/rogierlandman/from_Samsung/Machine_learning_datasets/Coughvid-dataset/metadata_compiled.csv')\n",
    "\n",
    "#find all with status 'symptomatic'\n",
    "metadata_selection = metadata.loc[metadata['status'] == 'COVID-19']\n",
    "\n",
    "list_of_ids = metadata_selection['uuid'].tolist()\n",
    "\n",
    "img_size=128\n",
    "\n",
    "for file in list_of_ids:\n",
    "    \n",
    "    filepath = rootdir + file + '.img'    \n",
    "    dat = pd.read_csv(filepath)\n",
    "    im = dat.values\n",
    "    im = cv2.resize(im,(img_size,img_size))\n",
    "    a = np.expand_dims(im, axis = 2)\n",
    "    a = np.concatenate((a, a, a), axis = 2)\n",
    "    #a[0,0,0] = -80\n",
    "    #a[1,1,1] = 127\n",
    "    norm_image = cv2.normalize(a, None, alpha = 0, beta = 255, norm_type = cv2.NORM_MINMAX, dtype = cv2.CV_32F)\n",
    "    norm_image = norm_image.astype(np.uint8)  \n",
    "    str1 = savedir + file + '.png'\n",
    "    cv2.imwrite(str1, norm_image) \n",
    "    \n",
    "    \n",
    "    \n",
    "    "
   ]
  },
  {
   "cell_type": "code",
   "execution_count": null,
   "id": "18b3cfa4",
   "metadata": {},
   "outputs": [],
   "source": [
    "create_test_set_directory = True\n",
    "\n",
    "#create test set directory\n",
    "if create_test_set_directory:\n",
    "    \n",
    "    path = '/Users/rogierlandman/from_Samsung/Machine_learning_datasets/Coughvid-dataset/images_copy1/COVID-19'\n",
    "    dest_path = '/Users/rogierlandman/from_Samsung/Machine_learning_datasets/Coughvid-dataset/images_test_set_copy1/COVID-19'\n",
    "\n",
    "    files = [f for f in glob.glob(path + \"**/*.png\", recursive=True)]\n",
    "\n",
    "    for f in files:\n",
    "        r = random.randrange(1,100)\n",
    "        if(r<=10):\n",
    "            basename = os.path.basename(f)\n",
    "            file_name = os.path.splitext(basename)[0]\n",
    "            file_destination = os.path.join(dest_path , file_name + '.png')\n",
    "            print('moving ' + f + ' to ' + file_destination)\n",
    "            shutil.move(f, file_destination)\n",
    "        "
   ]
  },
  {
   "cell_type": "code",
   "execution_count": null,
   "id": "d7d9108e",
   "metadata": {},
   "outputs": [],
   "source": [
    "copy_samples = True\n",
    "\n",
    "if copy_samples:\n",
    "\n",
    "    #copy 'symptomatic' samples to training and test folder\n",
    "\n",
    "    training_source = '/Users/rogierlandman/from_Samsung/Machine_learning_datasets/Coughvid-dataset/images_copy1/Healthy'\n",
    "    test_source = '/Users/rogierlandman/from_Samsung/Machine_learning_datasets/Coughvid-dataset/images_test_set_copy1/Healthy'\n",
    "\n",
    "    training_dest = '/Users/rogierlandman/from_Samsung/Machine_learning_datasets/Coughvid-dataset/images1/Class_1'\n",
    "    test_dest = '/Users/rogierlandman/from_Samsung/Machine_learning_datasets/Coughvid-dataset/images1_test_set/Class_1'\n",
    "\n",
    "    files=os.listdir(training_source)\n",
    "\n",
    "    # iterating over all the files in\n",
    "    # the source directory\n",
    "    for fname in files:\n",
    "\n",
    "        # copying the files to the\n",
    "        # destination directory\n",
    "        shutil.copy2(os.path.join(training_source,fname), training_dest)\n",
    "\n",
    "\n",
    "    files=os.listdir(test_source)\n",
    "\n",
    "    # iterating over all the files in\n",
    "    # the source directory\n",
    "    for fname in files:\n",
    "\n",
    "        # copying the files to the\n",
    "        # destination directory\n",
    "        shutil.copy2(os.path.join(test_source,fname), test_dest)"
   ]
  },
  {
   "cell_type": "code",
   "execution_count": null,
   "id": "8a8475cf",
   "metadata": {},
   "outputs": [],
   "source": []
  }
 ],
 "metadata": {
  "kernelspec": {
   "display_name": "Python 3 (ipykernel)",
   "language": "python",
   "name": "python3"
  },
  "language_info": {
   "codemirror_mode": {
    "name": "ipython",
    "version": 3
   },
   "file_extension": ".py",
   "mimetype": "text/x-python",
   "name": "python",
   "nbconvert_exporter": "python",
   "pygments_lexer": "ipython3",
   "version": "3.8.12"
  },
  "varInspector": {
   "cols": {
    "lenName": 16,
    "lenType": 16,
    "lenVar": 40
   },
   "kernels_config": {
    "python": {
     "delete_cmd_postfix": "",
     "delete_cmd_prefix": "del ",
     "library": "var_list.py",
     "varRefreshCmd": "print(var_dic_list())"
    },
    "r": {
     "delete_cmd_postfix": ") ",
     "delete_cmd_prefix": "rm(",
     "library": "var_list.r",
     "varRefreshCmd": "cat(var_dic_list()) "
    }
   },
   "types_to_exclude": [
    "module",
    "function",
    "builtin_function_or_method",
    "instance",
    "_Feature"
   ],
   "window_display": false
  }
 },
 "nbformat": 4,
 "nbformat_minor": 5
}
