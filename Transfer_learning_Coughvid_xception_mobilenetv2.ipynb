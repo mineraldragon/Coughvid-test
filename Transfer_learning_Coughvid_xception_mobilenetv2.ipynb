{
 "cells": [
  {
   "cell_type": "code",
   "execution_count": 1,
   "id": "f6cf6b94",
   "metadata": {},
   "outputs": [],
   "source": [
    "import os\n",
    "import shutil\n",
    "import pandas as pd\n",
    "import numpy as np\n",
    "import glob\n",
    "from glob import iglob\n",
    "from pathlib import Path\n",
    "import cv2\n",
    "import random\n",
    "\n",
    "import tensorflow as tf\n",
    "from tensorflow import keras\n",
    "import tensorflow.keras.layers as tfl\n",
    "\n",
    "import sklearn\n",
    "import matplotlib.pyplot as plt"
   ]
  },
  {
   "cell_type": "code",
   "execution_count": 117,
   "id": "f8e20f67",
   "metadata": {},
   "outputs": [],
   "source": [
    "#some constants\n",
    "img_size=128\n",
    "batch_size=32\n",
    "base_learning_rate = 0.0005\n",
    "num_classes=2\n",
    "metadata_path = '/Users/rogierlandman/from_Samsung/Machine_learning_datasets/Coughvid-dataset/metadata_compiled.csv'\n",
    "class1_path = '/Users/rogierlandman/from_Samsung/Machine_learning_datasets/Coughvid-dataset/images1/Class_1'\n",
    "class2_path = '/Users/rogierlandman/from_Samsung/Machine_learning_datasets/Coughvid-dataset/images1/Class_2'\n",
    "images_path = '/Users/rogierlandman/from_Samsung/Machine_learning_datasets/Coughvid-dataset/images1'\n",
    "images_test_set_path = '/Users/rogierlandman/from_Samsung/Machine_learning_datasets/Coughvid-dataset/images1_test_set'"
   ]
  },
  {
   "cell_type": "code",
   "execution_count": 118,
   "id": "831410c5",
   "metadata": {},
   "outputs": [
    {
     "name": "stdout",
     "output_type": "stream",
     "text": [
      "nan:  0\n",
      "healthy:  0\n",
      "symptomatic:  2321\n",
      "Covid:  1034\n"
     ]
    }
   ],
   "source": [
    "data_dir = class2_path\n",
    "\n",
    "#load meta data\n",
    "metadata = pd.read_csv(metadata_path)\n",
    "\n",
    "metadata.count\n",
    "\n",
    "#count how many of each class\n",
    "nan_ctr = 0\n",
    "healthy_ctr = 0\n",
    "symptomatic_ctr = 0\n",
    "COVID_ctr = 0\n",
    "\n",
    "accum_data = pd.DataFrame()\n",
    "for x in os.listdir(data_dir):\n",
    "    if x.endswith('.png'):\n",
    "        path_object = Path(x)\n",
    "        #print(path_object.stem)\n",
    "        q=metadata.loc[metadata['uuid']==path_object.stem]\n",
    "        #print(q['status'].values[0])\n",
    "        tmp = q['status'].values[0]\n",
    "\n",
    "        if tmp == 'healthy':\n",
    "            healthy_ctr += 1\n",
    "        if tmp == 'symptomatic':\n",
    "            symptomatic_ctr += 1\n",
    "        if tmp == 'COVID-19':\n",
    "            COVID_ctr += 1\n",
    "            \n",
    "            \n",
    "print('nan: ', nan_ctr)\n",
    "print('healthy: ', healthy_ctr)\n",
    "print('symptomatic: ', symptomatic_ctr)\n",
    "print('Covid: ', COVID_ctr)\n",
    "\n",
    "\n"
   ]
  },
  {
   "cell_type": "code",
   "execution_count": 16,
   "id": "5515536f",
   "metadata": {},
   "outputs": [
    {
     "data": {
      "text/plain": [
       "healthy        12479\n",
       "symptomatic     2590\n",
       "COVID-19        1155\n",
       "Name: status, dtype: int64"
      ]
     },
     "execution_count": 16,
     "metadata": {},
     "output_type": "execute_result"
    }
   ],
   "source": [
    "metadata['status'].value_counts()"
   ]
  },
  {
   "cell_type": "code",
   "execution_count": null,
   "id": "f500515f",
   "metadata": {},
   "outputs": [],
   "source": [
    "create_test_set_directory = False\n",
    "\n",
    "#create test set directory\n",
    "if create_test_set_directory:\n",
    "    \n",
    "    path = '/Users/rogierlandman/from_Samsung/Machine_learning_datasets/Coughvid-dataset/images_copy/Symptomatic'\n",
    "    dest_path = '/Users/rogierlandman/from_Samsung/Machine_learning_datasets/Coughvid-dataset/images_test_set_copy/Symptomatic'\n",
    "\n",
    "    files = [f for f in glob.glob(path + \"**/*.png\", recursive=True)]\n",
    "\n",
    "    for f in files:\n",
    "        r = random.randrange(1,100)\n",
    "        if(r<=10):\n",
    "            basename = os.path.basename(f)\n",
    "            file_name = os.path.splitext(basename)[0]\n",
    "            file_destination = os.path.join(dest_path , file_name + '.png')\n",
    "            print('moving ' + f + ' to ' + file_destination)\n",
    "            shutil.move(f, file_destination)\n",
    "        "
   ]
  },
  {
   "cell_type": "code",
   "execution_count": 75,
   "id": "a11a1760",
   "metadata": {},
   "outputs": [],
   "source": [
    "copy_samples = False\n",
    "\n",
    "if copy_samples:\n",
    "\n",
    "    #copy 'symptomatic' samples to training and test folder\n",
    "\n",
    "    training_source = '/Users/rogierlandman/from_Samsung/Machine_learning_datasets/Coughvid-dataset/images_copy/Symptomatic'\n",
    "    test_source = '/Users/rogierlandman/from_Samsung/Machine_learning_datasets/Coughvid-dataset/images_test_set_copy/Symptomatic'\n",
    "\n",
    "    training_dest = '/Users/rogierlandman/from_Samsung/Machine_learning_datasets/Coughvid-dataset/images/Class_2'\n",
    "    test_dest = '/Users/rogierlandman/from_Samsung/Machine_learning_datasets/Coughvid-dataset/images_test_set/Class_2'\n",
    "\n",
    "    files=os.listdir(training_source)\n",
    "\n",
    "    # iterating over all the files in\n",
    "    # the source directory\n",
    "    for fname in files:\n",
    "\n",
    "        # copying the files to the\n",
    "        # destination directory\n",
    "        shutil.copy2(os.path.join(training_source,fname), training_dest)\n",
    "\n",
    "\n",
    "    files=os.listdir(test_source)\n",
    "\n",
    "    # iterating over all the files in\n",
    "    # the source directory\n",
    "    for fname in files:\n",
    "\n",
    "        # copying the files to the\n",
    "        # destination directory\n",
    "        shutil.copy2(os.path.join(test_source,fname), test_dest)\n",
    "\n"
   ]
  },
  {
   "cell_type": "code",
   "execution_count": 119,
   "id": "8d073ab9",
   "metadata": {},
   "outputs": [
    {
     "name": "stdout",
     "output_type": "stream",
     "text": [
      "Found 14540 files belonging to 2 classes.\n",
      "Using 11632 files for training.\n",
      "Found 14540 files belonging to 2 classes.\n",
      "Using 2908 files for validation.\n",
      "Found 1684 files belonging to 2 classes.\n"
     ]
    }
   ],
   "source": [
    "data_dir = images_path\n",
    "\n",
    "#make training dataset\n",
    "train_ds = tf.keras.utils.image_dataset_from_directory(\n",
    "    data_dir,\n",
    "    labels='inferred', \n",
    "    label_mode='int',\n",
    "    color_mode='rgb',\n",
    "    validation_split=0.2,\n",
    "    subset='training',\n",
    "    seed=42,\n",
    "    image_size=(img_size, img_size),\n",
    "    crop_to_aspect_ratio=False,\n",
    "    batch_size=batch_size)\n",
    "\n",
    "\n",
    "#make validation dataset\n",
    "val_ds = tf.keras.utils.image_dataset_from_directory(\n",
    "    data_dir,\n",
    "    labels='inferred', \n",
    "    label_mode='int',\n",
    "    color_mode='rgb',\n",
    "    validation_split=0.2,\n",
    "    subset='validation',\n",
    "    seed=42,\n",
    "    image_size=(img_size, img_size),\n",
    "    crop_to_aspect_ratio=False,\n",
    "    batch_size=batch_size)\n",
    "\n",
    "test_set_directory = images_test_set_path\n",
    "\n",
    "test_ds = tf.keras.utils.image_dataset_from_directory(\n",
    "    test_set_directory,\n",
    "    labels='inferred',\n",
    "    label_mode='int',\n",
    "    color_mode='rgb',\n",
    "    shuffle=False,\n",
    "    validation_split=None,\n",
    "    subset=None,\n",
    "    seed=42,\n",
    "    image_size=(img_size, img_size),\n",
    "    crop_to_aspect_ratio=False,\n",
    "    batch_size=batch_size)\n",
    "\n",
    "\n"
   ]
  },
  {
   "cell_type": "code",
   "execution_count": 132,
   "id": "1c26e35d",
   "metadata": {},
   "outputs": [],
   "source": [
    "#chosen_model = 'MobileNetV2'\n",
    "chosen_model = 'Xception'\n",
    "#chosen_model = 'OwnModel1'\n",
    "\n",
    "if(chosen_model == 'Xception'):\n",
    "    #Xception model\n",
    "    base_model = keras.applications.Xception(\n",
    "        weights=\"imagenet\",  # Load weights pre-trained on ImageNet.\n",
    "        input_shape=(img_size, img_size, 3),\n",
    "        include_top=False,\n",
    "    )  # Do not include the ImageNet classifier at the top.\n",
    "    \n",
    "    \n",
    "    \n",
    "if(chosen_model == 'MobileNetV2'):\n",
    "    base_model = tf.keras.applications.MobileNetV2(\n",
    "        input_shape=(img_size, img_size, 3),\n",
    "        include_top=True,\n",
    "        weights=\"imagenet\",\n",
    "    )    \n",
    "    "
   ]
  },
  {
   "cell_type": "code",
   "execution_count": 136,
   "id": "fa60a99d",
   "metadata": {},
   "outputs": [
    {
     "name": "stdout",
     "output_type": "stream",
     "text": [
      "Model: \"model_13\"\n",
      "_________________________________________________________________\n",
      " Layer (type)                Output Shape              Param #   \n",
      "=================================================================\n",
      " input_31 (InputLayer)       [(None, 128, 128, 3)]     0         \n",
      "                                                                 \n",
      " rescaling_7 (Rescaling)     (None, 128, 128, 3)       0         \n",
      "                                                                 \n",
      " xception (Functional)       (None, 4, 4, 2048)        20861480  \n",
      "                                                                 \n",
      " global_average_pooling2d_20  (None, 2048)             0         \n",
      "  (GlobalAveragePooling2D)                                       \n",
      "                                                                 \n",
      " flatten_3 (Flatten)         (None, 2048)              0         \n",
      "                                                                 \n",
      " dense_24 (Dense)            (None, 100)               204900    \n",
      "                                                                 \n",
      " dense_25 (Dense)            (None, 100)               10100     \n",
      "                                                                 \n",
      " dense_26 (Dense)            (None, 100)               10100     \n",
      "                                                                 \n",
      " dense_27 (Dense)            (None, 1)                 101       \n",
      "                                                                 \n",
      "=================================================================\n",
      "Total params: 21,086,681\n",
      "Trainable params: 225,201\n",
      "Non-trainable params: 20,861,480\n",
      "_________________________________________________________________\n"
     ]
    }
   ],
   "source": [
    "if(chosen_model == 'Xception'):\n",
    "    \n",
    "     # Freeze the base_model\n",
    "    base_model.trainable = False\n",
    "\n",
    "    # Create new model on top\n",
    "    inputs = keras.Input(shape=(img_size, img_size, 3))\n",
    "    x = inputs  # Apply random data augmentation\n",
    "\n",
    "    # Pre-trained Xception weights requires that input be scaled\n",
    "    # from (0, 255) to a range of (-1., +1.), the rescaling layer\n",
    "    # outputs: `(inputs * scale) + offset`\n",
    "    scale_layer = keras.layers.Rescaling(scale=1 / 127.5, offset=-1)\n",
    "    x = scale_layer(x)\n",
    "\n",
    "    # The base model contains batchnorm layers. We want to keep them in inference mode\n",
    "    # when we unfreeze the base model for fine-tuning, so we make sure that the\n",
    "    # base_model is running in inference mode here.\n",
    "    x = base_model(x, training=False)\n",
    "    x = keras.layers.GlobalAveragePooling2D()(x)\n",
    "    #x = keras.layers.Dropout(0.2)(x)  # Regularize with dropout\n",
    "    #x=keras.layers.Dense(1024,activation='relu')(x)\n",
    "    #x=keras.layers.Dense(512,activation='relu')(x)\n",
    "    \n",
    "    \n",
    "    #try this\n",
    "    # flatten the output of the convolutional part: \n",
    "    x = keras.layers.Flatten()(x)\n",
    "    # three hidden layers\n",
    "    x = keras.layers.Dense(100, activation='relu')(x)\n",
    "    x = keras.layers.Dense(100, activation='relu')(x)\n",
    "    x = keras.layers.Dense(100, activation='relu')(x)\n",
    "    # final softmax layer with two categories (dog and cat)\n",
    "    #predictions = keras.layers.Dense(2, activation='softmax')(x)\n",
    "    \n",
    "    \n",
    "    outputs = keras.layers.Dense(1, activation='sigmoid')(x)\n",
    "    model = keras.Model(inputs, outputs)\n",
    "\n",
    "    model.summary()\n",
    "\n",
    "    \n",
    "    model.compile(\n",
    "        optimizer=keras.optimizers.Adam(base_learning_rate),\n",
    "        loss=keras.losses.BinaryCrossentropy(from_logits=True),\n",
    "        metrics=[tf.keras.metrics.AUC()],\n",
    "    )\n",
    "    \n",
    "if(chosen_model == 'MobileNetV2'):\n",
    "    \n",
    "    preprocess_input = tf.keras.applications.mobilenet_v2.preprocess_input\n",
    "    \n",
    "    base_model = tf.keras.applications.MobileNetV2(input_shape=(img_size, img_size, 3),\n",
    "                                               include_top=False,\n",
    "                                               weights='imagenet')\n",
    "    base_model.trainable = False\n",
    "    inputs = tf.keras.Input(shape=(img_size, img_size, 3))\n",
    "    #x = data_augmentation(inputs)\n",
    "    x = preprocess_input(inputs)\n",
    "    x = base_model(x, training=False)\n",
    "    x = keras.layers.GlobalAveragePooling2D()(x)\n",
    "    x = keras.layers.Dropout(.2)(x)\n",
    "    #x=keras.layers.Dense(1024,activation='relu')(x) #we add dense layers so that the model can learn more complex functions and classify for better results.\n",
    "    #x=keras.layers.Dense(1024,activation='relu')(x) #dense layer 2\n",
    "    #x=keras.layers.Dense(512,activation='relu')(x) #dense layer 3\n",
    "    outputs = keras.layers.Dense(1, activation='sigmoid')(x)\n",
    "    # YOUR CODE ENDS HERE\n",
    "    \n",
    "    #outputs = prediction_layer(x) \n",
    "    model = keras.Model(inputs, outputs)\n",
    "    \n",
    "    model.compile(optimizer=tf.keras.optimizers.Adam(learning_rate=base_learning_rate),\n",
    "                   loss=tf.keras.losses.BinaryCrossentropy(),\n",
    "                   metrics=[tf.keras.metrics.Recall()])\n",
    "\n",
    "    \n",
    "    \n",
    "if(chosen_model == 'OwnModel1'):\n",
    "    model = keras.Sequential()\n",
    "    model.add(keras.layers.Conv2D(32, (5, 5), input_shape=(img_size, img_size, 3), activation='relu'))\n",
    "    model.add(keras.layers.MaxPooling2D())\n",
    "    model.add(keras.layers.Dropout(0.2))\n",
    "    model.add(keras.layers.Flatten())\n",
    "    model.add(keras.layers.Dense(128, activation='relu'))\n",
    "    model.add(keras.layers.Dense(1, activation='sigmoid'))\n",
    "    # Compile model\n",
    "    model.compile(loss='binary_crossentropy', optimizer='adam', metrics=['accuracy'])\n",
    "\n"
   ]
  },
  {
   "cell_type": "code",
   "execution_count": 137,
   "id": "c5f3ffc4",
   "metadata": {},
   "outputs": [],
   "source": [
    "#from sklearn.utils import class_weight\n",
    "\n",
    "#train_label = np.concatenate([y for x, y in train_ds], axis=0)\n",
    "\n",
    "class_weights = {0: 1.,\n",
    "                1: 3.}\n",
    "\n",
    "#class_weights = class_weight.compute_class_weight('balanced', classes = np.unique(train_label), y = train_label)"
   ]
  },
  {
   "cell_type": "code",
   "execution_count": 138,
   "id": "f5a91319",
   "metadata": {},
   "outputs": [
    {
     "name": "stdout",
     "output_type": "stream",
     "text": [
      "Epoch 1/5\n"
     ]
    },
    {
     "name": "stderr",
     "output_type": "stream",
     "text": [
      "/Users/rogierlandman/opt/anaconda3/envs/VoiceRec1/lib/python3.7/site-packages/tensorflow/python/util/dispatch.py:1082: UserWarning: \"`binary_crossentropy` received `from_logits=True`, but the `output` argument was produced by a sigmoid or softmax activation and thus does not represent logits. Was this intended?\"\n",
      "  return dispatch_target(*args, **kwargs)\n"
     ]
    },
    {
     "name": "stdout",
     "output_type": "stream",
     "text": [
      "364/364 [==============================] - 261s 711ms/step - loss: 1.0132 - auc_3: 0.5060 - val_loss: 0.6964 - val_auc_3: 0.5285\n",
      "Epoch 2/5\n",
      "364/364 [==============================] - 265s 729ms/step - loss: 1.0064 - auc_3: 0.5347 - val_loss: 0.7140 - val_auc_3: 0.5440\n",
      "Epoch 3/5\n",
      "364/364 [==============================] - 267s 734ms/step - loss: 1.0025 - auc_3: 0.5469 - val_loss: 0.7028 - val_auc_3: 0.5359\n",
      "Epoch 4/5\n",
      "364/364 [==============================] - 279s 767ms/step - loss: 0.9978 - auc_3: 0.5644 - val_loss: 0.7001 - val_auc_3: 0.5385\n",
      "Epoch 5/5\n",
      "364/364 [==============================] - 304s 834ms/step - loss: 0.9909 - auc_3: 0.5830 - val_loss: 0.6918 - val_auc_3: 0.5240\n"
     ]
    }
   ],
   "source": [
    "epochs = 5\n",
    "\n",
    "if(chosen_model == 'Xception'):\n",
    "    history = model.fit(train_ds, epochs=epochs, validation_data=val_ds, class_weight=class_weights)\n",
    "    \n",
    "if(chosen_model == 'MobileNetV2'):\n",
    "    history = model.fit(train_ds, validation_data=val_ds, epochs=epochs, class_weight=class_weights)\n",
    "\n",
    "if(chosen_model == 'OwnModel1'):\n",
    "    history = model.fit(train_ds, validation_data=val_ds, epochs=epochs, class_weight=class_weights)"
   ]
  },
  {
   "cell_type": "code",
   "execution_count": 130,
   "id": "d949ce23",
   "metadata": {},
   "outputs": [
    {
     "data": {
      "text/plain": [
       "[<matplotlib.lines.Line2D at 0x15f8099d0>]"
      ]
     },
     "execution_count": 130,
     "metadata": {},
     "output_type": "execute_result"
    },
    {
     "data": {
      "image/png": "[encoded data removed]",
      "text/plain": [
       "<Figure size 432x288 with 1 Axes>"
      ]
     },
     "metadata": {
      "needs_background": "light"
     },
     "output_type": "display_data"
    }
   ],
   "source": [
    "import matplotlib.pyplot as plt\n",
    "plt.plot(history.history['val_loss'])"
   ]
  },
  {
   "cell_type": "code",
   "execution_count": 131,
   "id": "41787ce7",
   "metadata": {},
   "outputs": [
    {
     "name": "stdout",
     "output_type": "stream",
     "text": [
      "[[1024  270]\n",
      " [ 294   96]]\n",
      "F1 score:  0.25396825396825395\n",
      "precision:  0.26229508196721313\n",
      "recall:  0.24615384615384617\n"
     ]
    }
   ],
   "source": [
    "import sklearn.metrics as metrics\n",
    "\n",
    "predictions = model.predict(test_ds)\n",
    "predictions = predictions.ravel()\n",
    "predictions = np.int32(np.round(predictions))\n",
    "\n",
    "test_label = np.concatenate([y for x, y in test_ds], axis=0)\n",
    "\n",
    "confusion_matrix = metrics.confusion_matrix(test_label, predictions)\n",
    "print(confusion_matrix)\n",
    "\n",
    "F1 = metrics.f1_score(test_label, predictions)\n",
    "print('F1 score: ', F1)\n",
    "\n",
    "precision = metrics.precision_score(test_label, predictions)\n",
    "print('precision: ', precision)\n",
    "\n",
    "recall = metrics.recall_score(test_label, predictions)\n",
    "print('recall: ', recall)\n"
   ]
  },
  {
   "cell_type": "code",
   "execution_count": null,
   "id": "6edf8ba0",
   "metadata": {},
   "outputs": [],
   "source": []
  }
 ],
 "metadata": {
  "kernelspec": {
   "display_name": "Python 3 (ipykernel)",
   "language": "python",
   "name": "python3"
  },
  "language_info": {
   "codemirror_mode": {
    "name": "ipython",
    "version": 3
   },
   "file_extension": ".py",
   "mimetype": "text/x-python",
   "name": "python",
   "nbconvert_exporter": "python",
   "pygments_lexer": "ipython3",
   "version": "3.7.11"
  },
  "varInspector": {
   "cols": {
    "lenName": 16,
    "lenType": 16,
    "lenVar": 40
   },
   "kernels_config": {
    "python": {
     "delete_cmd_postfix": "",
     "delete_cmd_prefix": "del ",
     "library": "var_list.py",
     "varRefreshCmd": "print(var_dic_list())"
    },
    "r": {
     "delete_cmd_postfix": ") ",
     "delete_cmd_prefix": "rm(",
     "library": "var_list.r",
     "varRefreshCmd": "cat(var_dic_list()) "
    }
   },
   "oldHeight": 631.844,
   "position": {
    "height": "40px",
    "left": "1059px",
    "right": "20px",
    "top": "80px",
    "width": "552px"
   },
   "types_to_exclude": [
    "module",
    "function",
    "builtin_function_or_method",
    "instance",
    "_Feature"
   ],
   "varInspector_section_display": "none",
   "window_display": true
  }
 },
 "nbformat": 4,
 "nbformat_minor": 5
}
